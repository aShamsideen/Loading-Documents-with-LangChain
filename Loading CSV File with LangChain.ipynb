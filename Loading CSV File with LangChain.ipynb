{
 "cells": [
  {
   "cell_type": "code",
   "execution_count": 6,
   "id": "56721086-26bb-410d-9baa-a56680f98878",
   "metadata": {},
   "outputs": [],
   "source": [
    "from langchain_community.document_loaders import CSVLoader\n",
    "\n",
    "loader = CSVLoader(file_path='Iris.csv')"
   ]
  },
  {
   "cell_type": "code",
   "execution_count": 7,
   "id": "a6309677-9b19-4405-ac56-9cd0653fe2c3",
   "metadata": {},
   "outputs": [
    {
     "data": {
      "text/plain": [
       "<langchain_community.document_loaders.csv_loader.CSVLoader at 0x1cf679c87d0>"
      ]
     },
     "execution_count": 7,
     "metadata": {},
     "output_type": "execute_result"
    }
   ],
   "source": [
    "loader"
   ]
  },
  {
   "cell_type": "code",
   "execution_count": 8,
   "id": "789f7a87-e8b1-441b-9ca4-ab3e8c3587bb",
   "metadata": {},
   "outputs": [
    {
     "data": {
      "text/plain": [
       "list"
      ]
     },
     "execution_count": 8,
     "metadata": {},
     "output_type": "execute_result"
    }
   ],
   "source": [
    "data = loader.load()\n",
    "\n",
    "type(data)"
   ]
  },
  {
   "cell_type": "code",
   "execution_count": 9,
   "id": "4f1c5e8b-2c1e-400f-be9a-5779aa51934c",
   "metadata": {},
   "outputs": [
    {
     "data": {
      "text/plain": [
       "[Document(page_content='5.1: 4.9\\n3.5: 3\\n1.4: 1.4\\n0.2: 0.2\\nIris-setosa: Iris-setosa', metadata={'source': 'Iris.csv', 'row': 0}),\n",
       " Document(page_content='5.1: 4.7\\n3.5: 3.2\\n1.4: 1.3\\n0.2: 0.2\\nIris-setosa: Iris-setosa', metadata={'source': 'Iris.csv', 'row': 1}),\n",
       " Document(page_content='5.1: 4.6\\n3.5: 3.1\\n1.4: 1.5\\n0.2: 0.2\\nIris-setosa: Iris-setosa', metadata={'source': 'Iris.csv', 'row': 2}),\n",
       " Document(page_content='5.1: 5\\n3.5: 3.6\\n1.4: 1.4\\n0.2: 0.2\\nIris-setosa: Iris-setosa', metadata={'source': 'Iris.csv', 'row': 3}),\n",
       " Document(page_content='5.1: 5.4\\n3.5: 3.9\\n1.4: 1.7\\n0.2: 0.4\\nIris-setosa: Iris-setosa', metadata={'source': 'Iris.csv', 'row': 4}),\n",
       " Document(page_content='5.1: 4.6\\n3.5: 3.4\\n1.4: 1.4\\n0.2: 0.3\\nIris-setosa: Iris-setosa', metadata={'source': 'Iris.csv', 'row': 5}),\n",
       " Document(page_content='5.1: 5\\n3.5: 3.4\\n1.4: 1.5\\n0.2: 0.2\\nIris-setosa: Iris-setosa', metadata={'source': 'Iris.csv', 'row': 6}),\n",
       " Document(page_content='5.1: 4.4\\n3.5: 2.9\\n1.4: 1.4\\n0.2: 0.2\\nIris-setosa: Iris-setosa', metadata={'source': 'Iris.csv', 'row': 7}),\n",
       " Document(page_content='5.1: 4.9\\n3.5: 3.1\\n1.4: 1.5\\n0.2: 0.1\\nIris-setosa: Iris-setosa', metadata={'source': 'Iris.csv', 'row': 8}),\n",
       " Document(page_content='5.1: 5.4\\n3.5: 3.7\\n1.4: 1.5\\n0.2: 0.2\\nIris-setosa: Iris-setosa', metadata={'source': 'Iris.csv', 'row': 9}),\n",
       " Document(page_content='5.1: 4.8\\n3.5: 3.4\\n1.4: 1.6\\n0.2: 0.2\\nIris-setosa: Iris-setosa', metadata={'source': 'Iris.csv', 'row': 10}),\n",
       " Document(page_content='5.1: 4.8\\n3.5: 3\\n1.4: 1.4\\n0.2: 0.1\\nIris-setosa: Iris-setosa', metadata={'source': 'Iris.csv', 'row': 11}),\n",
       " Document(page_content='5.1: 4.3\\n3.5: 3\\n1.4: 1.1\\n0.2: 0.1\\nIris-setosa: Iris-setosa', metadata={'source': 'Iris.csv', 'row': 12}),\n",
       " Document(page_content='5.1: 5.8\\n3.5: 4\\n1.4: 1.2\\n0.2: 0.2\\nIris-setosa: Iris-setosa', metadata={'source': 'Iris.csv', 'row': 13}),\n",
       " Document(page_content='5.1: 5.7\\n3.5: 4.4\\n1.4: 1.5\\n0.2: 0.4\\nIris-setosa: Iris-setosa', metadata={'source': 'Iris.csv', 'row': 14}),\n",
       " Document(page_content='5.1: 5.4\\n3.5: 3.9\\n1.4: 1.3\\n0.2: 0.4\\nIris-setosa: Iris-setosa', metadata={'source': 'Iris.csv', 'row': 15}),\n",
       " Document(page_content='5.1: 5.1\\n3.5: 3.5\\n1.4: 1.4\\n0.2: 0.3\\nIris-setosa: Iris-setosa', metadata={'source': 'Iris.csv', 'row': 16}),\n",
       " Document(page_content='5.1: 5.7\\n3.5: 3.8\\n1.4: 1.7\\n0.2: 0.3\\nIris-setosa: Iris-setosa', metadata={'source': 'Iris.csv', 'row': 17}),\n",
       " Document(page_content='5.1: 5.1\\n3.5: 3.8\\n1.4: 1.5\\n0.2: 0.3\\nIris-setosa: Iris-setosa', metadata={'source': 'Iris.csv', 'row': 18}),\n",
       " Document(page_content='5.1: 5.4\\n3.5: 3.4\\n1.4: 1.7\\n0.2: 0.2\\nIris-setosa: Iris-setosa', metadata={'source': 'Iris.csv', 'row': 19}),\n",
       " Document(page_content='5.1: 5.1\\n3.5: 3.7\\n1.4: 1.5\\n0.2: 0.4\\nIris-setosa: Iris-setosa', metadata={'source': 'Iris.csv', 'row': 20}),\n",
       " Document(page_content='5.1: 4.6\\n3.5: 3.6\\n1.4: 1\\n0.2: 0.2\\nIris-setosa: Iris-setosa', metadata={'source': 'Iris.csv', 'row': 21}),\n",
       " Document(page_content='5.1: 5.1\\n3.5: 3.3\\n1.4: 1.7\\n0.2: 0.5\\nIris-setosa: Iris-setosa', metadata={'source': 'Iris.csv', 'row': 22}),\n",
       " Document(page_content='5.1: 4.8\\n3.5: 3.4\\n1.4: 1.9\\n0.2: 0.2\\nIris-setosa: Iris-setosa', metadata={'source': 'Iris.csv', 'row': 23}),\n",
       " Document(page_content='5.1: 5\\n3.5: 3\\n1.4: 1.6\\n0.2: 0.2\\nIris-setosa: Iris-setosa', metadata={'source': 'Iris.csv', 'row': 24}),\n",
       " Document(page_content='5.1: 5\\n3.5: 3.4\\n1.4: 1.6\\n0.2: 0.4\\nIris-setosa: Iris-setosa', metadata={'source': 'Iris.csv', 'row': 25}),\n",
       " Document(page_content='5.1: 5.2\\n3.5: 3.5\\n1.4: 1.5\\n0.2: 0.2\\nIris-setosa: Iris-setosa', metadata={'source': 'Iris.csv', 'row': 26}),\n",
       " Document(page_content='5.1: 5.2\\n3.5: 3.4\\n1.4: 1.4\\n0.2: 0.2\\nIris-setosa: Iris-setosa', metadata={'source': 'Iris.csv', 'row': 27}),\n",
       " Document(page_content='5.1: 4.7\\n3.5: 3.2\\n1.4: 1.6\\n0.2: 0.2\\nIris-setosa: Iris-setosa', metadata={'source': 'Iris.csv', 'row': 28}),\n",
       " Document(page_content='5.1: 4.8\\n3.5: 3.1\\n1.4: 1.6\\n0.2: 0.2\\nIris-setosa: Iris-setosa', metadata={'source': 'Iris.csv', 'row': 29}),\n",
       " Document(page_content='5.1: 5.4\\n3.5: 3.4\\n1.4: 1.5\\n0.2: 0.4\\nIris-setosa: Iris-setosa', metadata={'source': 'Iris.csv', 'row': 30}),\n",
       " Document(page_content='5.1: 5.2\\n3.5: 4.1\\n1.4: 1.5\\n0.2: 0.1\\nIris-setosa: Iris-setosa', metadata={'source': 'Iris.csv', 'row': 31}),\n",
       " Document(page_content='5.1: 5.5\\n3.5: 4.2\\n1.4: 1.4\\n0.2: 0.2\\nIris-setosa: Iris-setosa', metadata={'source': 'Iris.csv', 'row': 32}),\n",
       " Document(page_content='5.1: 4.9\\n3.5: 3.1\\n1.4: 1.5\\n0.2: 0.1\\nIris-setosa: Iris-setosa', metadata={'source': 'Iris.csv', 'row': 33}),\n",
       " Document(page_content='5.1: 5\\n3.5: 3.2\\n1.4: 1.2\\n0.2: 0.2\\nIris-setosa: Iris-setosa', metadata={'source': 'Iris.csv', 'row': 34}),\n",
       " Document(page_content='5.1: 5.5\\n3.5: 3.5\\n1.4: 1.3\\n0.2: 0.2\\nIris-setosa: Iris-setosa', metadata={'source': 'Iris.csv', 'row': 35}),\n",
       " Document(page_content='5.1: 4.9\\n3.5: 3.1\\n1.4: 1.5\\n0.2: 0.1\\nIris-setosa: Iris-setosa', metadata={'source': 'Iris.csv', 'row': 36}),\n",
       " Document(page_content='5.1: 4.4\\n3.5: 3\\n1.4: 1.3\\n0.2: 0.2\\nIris-setosa: Iris-setosa', metadata={'source': 'Iris.csv', 'row': 37}),\n",
       " Document(page_content='5.1: 5.1\\n3.5: 3.4\\n1.4: 1.5\\n0.2: 0.2\\nIris-setosa: Iris-setosa', metadata={'source': 'Iris.csv', 'row': 38}),\n",
       " Document(page_content='5.1: 5\\n3.5: 3.5\\n1.4: 1.3\\n0.2: 0.3\\nIris-setosa: Iris-setosa', metadata={'source': 'Iris.csv', 'row': 39}),\n",
       " Document(page_content='5.1: 4.5\\n3.5: 2.3\\n1.4: 1.3\\n0.2: 0.3\\nIris-setosa: Iris-setosa', metadata={'source': 'Iris.csv', 'row': 40}),\n",
       " Document(page_content='5.1: 4.4\\n3.5: 3.2\\n1.4: 1.3\\n0.2: 0.2\\nIris-setosa: Iris-setosa', metadata={'source': 'Iris.csv', 'row': 41}),\n",
       " Document(page_content='5.1: 5\\n3.5: 3.5\\n1.4: 1.6\\n0.2: 0.6\\nIris-setosa: Iris-setosa', metadata={'source': 'Iris.csv', 'row': 42}),\n",
       " Document(page_content='5.1: 5.1\\n3.5: 3.8\\n1.4: 1.9\\n0.2: 0.4\\nIris-setosa: Iris-setosa', metadata={'source': 'Iris.csv', 'row': 43}),\n",
       " Document(page_content='5.1: 4.8\\n3.5: 3\\n1.4: 1.4\\n0.2: 0.3\\nIris-setosa: Iris-setosa', metadata={'source': 'Iris.csv', 'row': 44}),\n",
       " Document(page_content='5.1: 5.1\\n3.5: 3.8\\n1.4: 1.6\\n0.2: 0.2\\nIris-setosa: Iris-setosa', metadata={'source': 'Iris.csv', 'row': 45}),\n",
       " Document(page_content='5.1: 4.6\\n3.5: 3.2\\n1.4: 1.4\\n0.2: 0.2\\nIris-setosa: Iris-setosa', metadata={'source': 'Iris.csv', 'row': 46}),\n",
       " Document(page_content='5.1: 5.3\\n3.5: 3.7\\n1.4: 1.5\\n0.2: 0.2\\nIris-setosa: Iris-setosa', metadata={'source': 'Iris.csv', 'row': 47}),\n",
       " Document(page_content='5.1: 5\\n3.5: 3.3\\n1.4: 1.4\\n0.2: 0.2\\nIris-setosa: Iris-setosa', metadata={'source': 'Iris.csv', 'row': 48}),\n",
       " Document(page_content='5.1: 7\\n3.5: 3.2\\n1.4: 4.7\\n0.2: 1.4\\nIris-setosa: Iris-versicolor', metadata={'source': 'Iris.csv', 'row': 49}),\n",
       " Document(page_content='5.1: 6.4\\n3.5: 3.2\\n1.4: 4.5\\n0.2: 1.5\\nIris-setosa: Iris-versicolor', metadata={'source': 'Iris.csv', 'row': 50}),\n",
       " Document(page_content='5.1: 6.9\\n3.5: 3.1\\n1.4: 4.9\\n0.2: 1.5\\nIris-setosa: Iris-versicolor', metadata={'source': 'Iris.csv', 'row': 51}),\n",
       " Document(page_content='5.1: 5.5\\n3.5: 2.3\\n1.4: 4\\n0.2: 1.3\\nIris-setosa: Iris-versicolor', metadata={'source': 'Iris.csv', 'row': 52}),\n",
       " Document(page_content='5.1: 6.5\\n3.5: 2.8\\n1.4: 4.6\\n0.2: 1.5\\nIris-setosa: Iris-versicolor', metadata={'source': 'Iris.csv', 'row': 53}),\n",
       " Document(page_content='5.1: 5.7\\n3.5: 2.8\\n1.4: 4.5\\n0.2: 1.3\\nIris-setosa: Iris-versicolor', metadata={'source': 'Iris.csv', 'row': 54}),\n",
       " Document(page_content='5.1: 6.3\\n3.5: 3.3\\n1.4: 4.7\\n0.2: 1.6\\nIris-setosa: Iris-versicolor', metadata={'source': 'Iris.csv', 'row': 55}),\n",
       " Document(page_content='5.1: 4.9\\n3.5: 2.4\\n1.4: 3.3\\n0.2: 1\\nIris-setosa: Iris-versicolor', metadata={'source': 'Iris.csv', 'row': 56}),\n",
       " Document(page_content='5.1: 6.6\\n3.5: 2.9\\n1.4: 4.6\\n0.2: 1.3\\nIris-setosa: Iris-versicolor', metadata={'source': 'Iris.csv', 'row': 57}),\n",
       " Document(page_content='5.1: 5.2\\n3.5: 2.7\\n1.4: 3.9\\n0.2: 1.4\\nIris-setosa: Iris-versicolor', metadata={'source': 'Iris.csv', 'row': 58}),\n",
       " Document(page_content='5.1: 5\\n3.5: 2\\n1.4: 3.5\\n0.2: 1\\nIris-setosa: Iris-versicolor', metadata={'source': 'Iris.csv', 'row': 59}),\n",
       " Document(page_content='5.1: 5.9\\n3.5: 3\\n1.4: 4.2\\n0.2: 1.5\\nIris-setosa: Iris-versicolor', metadata={'source': 'Iris.csv', 'row': 60}),\n",
       " Document(page_content='5.1: 6\\n3.5: 2.2\\n1.4: 4\\n0.2: 1\\nIris-setosa: Iris-versicolor', metadata={'source': 'Iris.csv', 'row': 61}),\n",
       " Document(page_content='5.1: 6.1\\n3.5: 2.9\\n1.4: 4.7\\n0.2: 1.4\\nIris-setosa: Iris-versicolor', metadata={'source': 'Iris.csv', 'row': 62}),\n",
       " Document(page_content='5.1: 5.6\\n3.5: 2.9\\n1.4: 3.6\\n0.2: 1.3\\nIris-setosa: Iris-versicolor', metadata={'source': 'Iris.csv', 'row': 63}),\n",
       " Document(page_content='5.1: 6.7\\n3.5: 3.1\\n1.4: 4.4\\n0.2: 1.4\\nIris-setosa: Iris-versicolor', metadata={'source': 'Iris.csv', 'row': 64}),\n",
       " Document(page_content='5.1: 5.6\\n3.5: 3\\n1.4: 4.5\\n0.2: 1.5\\nIris-setosa: Iris-versicolor', metadata={'source': 'Iris.csv', 'row': 65}),\n",
       " Document(page_content='5.1: 5.8\\n3.5: 2.7\\n1.4: 4.1\\n0.2: 1\\nIris-setosa: Iris-versicolor', metadata={'source': 'Iris.csv', 'row': 66}),\n",
       " Document(page_content='5.1: 6.2\\n3.5: 2.2\\n1.4: 4.5\\n0.2: 1.5\\nIris-setosa: Iris-versicolor', metadata={'source': 'Iris.csv', 'row': 67}),\n",
       " Document(page_content='5.1: 5.6\\n3.5: 2.5\\n1.4: 3.9\\n0.2: 1.1\\nIris-setosa: Iris-versicolor', metadata={'source': 'Iris.csv', 'row': 68}),\n",
       " Document(page_content='5.1: 5.9\\n3.5: 3.2\\n1.4: 4.8\\n0.2: 1.8\\nIris-setosa: Iris-versicolor', metadata={'source': 'Iris.csv', 'row': 69}),\n",
       " Document(page_content='5.1: 6.1\\n3.5: 2.8\\n1.4: 4\\n0.2: 1.3\\nIris-setosa: Iris-versicolor', metadata={'source': 'Iris.csv', 'row': 70}),\n",
       " Document(page_content='5.1: 6.3\\n3.5: 2.5\\n1.4: 4.9\\n0.2: 1.5\\nIris-setosa: Iris-versicolor', metadata={'source': 'Iris.csv', 'row': 71}),\n",
       " Document(page_content='5.1: 6.1\\n3.5: 2.8\\n1.4: 4.7\\n0.2: 1.2\\nIris-setosa: Iris-versicolor', metadata={'source': 'Iris.csv', 'row': 72}),\n",
       " Document(page_content='5.1: 6.4\\n3.5: 2.9\\n1.4: 4.3\\n0.2: 1.3\\nIris-setosa: Iris-versicolor', metadata={'source': 'Iris.csv', 'row': 73}),\n",
       " Document(page_content='5.1: 6.6\\n3.5: 3\\n1.4: 4.4\\n0.2: 1.4\\nIris-setosa: Iris-versicolor', metadata={'source': 'Iris.csv', 'row': 74}),\n",
       " Document(page_content='5.1: 6.8\\n3.5: 2.8\\n1.4: 4.8\\n0.2: 1.4\\nIris-setosa: Iris-versicolor', metadata={'source': 'Iris.csv', 'row': 75}),\n",
       " Document(page_content='5.1: 6.7\\n3.5: 3\\n1.4: 5\\n0.2: 1.7\\nIris-setosa: Iris-versicolor', metadata={'source': 'Iris.csv', 'row': 76}),\n",
       " Document(page_content='5.1: 6\\n3.5: 2.9\\n1.4: 4.5\\n0.2: 1.5\\nIris-setosa: Iris-versicolor', metadata={'source': 'Iris.csv', 'row': 77}),\n",
       " Document(page_content='5.1: 5.7\\n3.5: 2.6\\n1.4: 3.5\\n0.2: 1\\nIris-setosa: Iris-versicolor', metadata={'source': 'Iris.csv', 'row': 78}),\n",
       " Document(page_content='5.1: 5.5\\n3.5: 2.4\\n1.4: 3.8\\n0.2: 1.1\\nIris-setosa: Iris-versicolor', metadata={'source': 'Iris.csv', 'row': 79}),\n",
       " Document(page_content='5.1: 5.5\\n3.5: 2.4\\n1.4: 3.7\\n0.2: 1\\nIris-setosa: Iris-versicolor', metadata={'source': 'Iris.csv', 'row': 80}),\n",
       " Document(page_content='5.1: 5.8\\n3.5: 2.7\\n1.4: 3.9\\n0.2: 1.2\\nIris-setosa: Iris-versicolor', metadata={'source': 'Iris.csv', 'row': 81}),\n",
       " Document(page_content='5.1: 6\\n3.5: 2.7\\n1.4: 5.1\\n0.2: 1.6\\nIris-setosa: Iris-versicolor', metadata={'source': 'Iris.csv', 'row': 82}),\n",
       " Document(page_content='5.1: 5.4\\n3.5: 3\\n1.4: 4.5\\n0.2: 1.5\\nIris-setosa: Iris-versicolor', metadata={'source': 'Iris.csv', 'row': 83}),\n",
       " Document(page_content='5.1: 6\\n3.5: 3.4\\n1.4: 4.5\\n0.2: 1.6\\nIris-setosa: Iris-versicolor', metadata={'source': 'Iris.csv', 'row': 84}),\n",
       " Document(page_content='5.1: 6.7\\n3.5: 3.1\\n1.4: 4.7\\n0.2: 1.5\\nIris-setosa: Iris-versicolor', metadata={'source': 'Iris.csv', 'row': 85}),\n",
       " Document(page_content='5.1: 6.3\\n3.5: 2.3\\n1.4: 4.4\\n0.2: 1.3\\nIris-setosa: Iris-versicolor', metadata={'source': 'Iris.csv', 'row': 86}),\n",
       " Document(page_content='5.1: 5.6\\n3.5: 3\\n1.4: 4.1\\n0.2: 1.3\\nIris-setosa: Iris-versicolor', metadata={'source': 'Iris.csv', 'row': 87}),\n",
       " Document(page_content='5.1: 5.5\\n3.5: 2.5\\n1.4: 4\\n0.2: 1.3\\nIris-setosa: Iris-versicolor', metadata={'source': 'Iris.csv', 'row': 88}),\n",
       " Document(page_content='5.1: 5.5\\n3.5: 2.6\\n1.4: 4.4\\n0.2: 1.2\\nIris-setosa: Iris-versicolor', metadata={'source': 'Iris.csv', 'row': 89}),\n",
       " Document(page_content='5.1: 6.1\\n3.5: 3\\n1.4: 4.6\\n0.2: 1.4\\nIris-setosa: Iris-versicolor', metadata={'source': 'Iris.csv', 'row': 90}),\n",
       " Document(page_content='5.1: 5.8\\n3.5: 2.6\\n1.4: 4\\n0.2: 1.2\\nIris-setosa: Iris-versicolor', metadata={'source': 'Iris.csv', 'row': 91}),\n",
       " Document(page_content='5.1: 5\\n3.5: 2.3\\n1.4: 3.3\\n0.2: 1\\nIris-setosa: Iris-versicolor', metadata={'source': 'Iris.csv', 'row': 92}),\n",
       " Document(page_content='5.1: 5.6\\n3.5: 2.7\\n1.4: 4.2\\n0.2: 1.3\\nIris-setosa: Iris-versicolor', metadata={'source': 'Iris.csv', 'row': 93}),\n",
       " Document(page_content='5.1: 5.7\\n3.5: 3\\n1.4: 4.2\\n0.2: 1.2\\nIris-setosa: Iris-versicolor', metadata={'source': 'Iris.csv', 'row': 94}),\n",
       " Document(page_content='5.1: 5.7\\n3.5: 2.9\\n1.4: 4.2\\n0.2: 1.3\\nIris-setosa: Iris-versicolor', metadata={'source': 'Iris.csv', 'row': 95}),\n",
       " Document(page_content='5.1: 6.2\\n3.5: 2.9\\n1.4: 4.3\\n0.2: 1.3\\nIris-setosa: Iris-versicolor', metadata={'source': 'Iris.csv', 'row': 96}),\n",
       " Document(page_content='5.1: 5.1\\n3.5: 2.5\\n1.4: 3\\n0.2: 1.1\\nIris-setosa: Iris-versicolor', metadata={'source': 'Iris.csv', 'row': 97}),\n",
       " Document(page_content='5.1: 5.7\\n3.5: 2.8\\n1.4: 4.1\\n0.2: 1.3\\nIris-setosa: Iris-versicolor', metadata={'source': 'Iris.csv', 'row': 98}),\n",
       " Document(page_content='5.1: 6.3\\n3.5: 3.3\\n1.4: 6\\n0.2: 2.5\\nIris-setosa: Iris-virginica', metadata={'source': 'Iris.csv', 'row': 99}),\n",
       " Document(page_content='5.1: 5.8\\n3.5: 2.7\\n1.4: 5.1\\n0.2: 1.9\\nIris-setosa: Iris-virginica', metadata={'source': 'Iris.csv', 'row': 100}),\n",
       " Document(page_content='5.1: 7.1\\n3.5: 3\\n1.4: 5.9\\n0.2: 2.1\\nIris-setosa: Iris-virginica', metadata={'source': 'Iris.csv', 'row': 101}),\n",
       " Document(page_content='5.1: 6.3\\n3.5: 2.9\\n1.4: 5.6\\n0.2: 1.8\\nIris-setosa: Iris-virginica', metadata={'source': 'Iris.csv', 'row': 102}),\n",
       " Document(page_content='5.1: 6.5\\n3.5: 3\\n1.4: 5.8\\n0.2: 2.2\\nIris-setosa: Iris-virginica', metadata={'source': 'Iris.csv', 'row': 103}),\n",
       " Document(page_content='5.1: 7.6\\n3.5: 3\\n1.4: 6.6\\n0.2: 2.1\\nIris-setosa: Iris-virginica', metadata={'source': 'Iris.csv', 'row': 104}),\n",
       " Document(page_content='5.1: 4.9\\n3.5: 2.5\\n1.4: 4.5\\n0.2: 1.7\\nIris-setosa: Iris-virginica', metadata={'source': 'Iris.csv', 'row': 105}),\n",
       " Document(page_content='5.1: 7.3\\n3.5: 2.9\\n1.4: 6.3\\n0.2: 1.8\\nIris-setosa: Iris-virginica', metadata={'source': 'Iris.csv', 'row': 106}),\n",
       " Document(page_content='5.1: 6.7\\n3.5: 2.5\\n1.4: 5.8\\n0.2: 1.8\\nIris-setosa: Iris-virginica', metadata={'source': 'Iris.csv', 'row': 107}),\n",
       " Document(page_content='5.1: 7.2\\n3.5: 3.6\\n1.4: 6.1\\n0.2: 2.5\\nIris-setosa: Iris-virginica', metadata={'source': 'Iris.csv', 'row': 108}),\n",
       " Document(page_content='5.1: 6.5\\n3.5: 3.2\\n1.4: 5.1\\n0.2: 2\\nIris-setosa: Iris-virginica', metadata={'source': 'Iris.csv', 'row': 109}),\n",
       " Document(page_content='5.1: 6.4\\n3.5: 2.7\\n1.4: 5.3\\n0.2: 1.9\\nIris-setosa: Iris-virginica', metadata={'source': 'Iris.csv', 'row': 110}),\n",
       " Document(page_content='5.1: 6.8\\n3.5: 3\\n1.4: 5.5\\n0.2: 2.1\\nIris-setosa: Iris-virginica', metadata={'source': 'Iris.csv', 'row': 111}),\n",
       " Document(page_content='5.1: 5.7\\n3.5: 2.5\\n1.4: 5\\n0.2: 2\\nIris-setosa: Iris-virginica', metadata={'source': 'Iris.csv', 'row': 112}),\n",
       " Document(page_content='5.1: 5.8\\n3.5: 2.8\\n1.4: 5.1\\n0.2: 2.4\\nIris-setosa: Iris-virginica', metadata={'source': 'Iris.csv', 'row': 113}),\n",
       " Document(page_content='5.1: 6.4\\n3.5: 3.2\\n1.4: 5.3\\n0.2: 2.3\\nIris-setosa: Iris-virginica', metadata={'source': 'Iris.csv', 'row': 114}),\n",
       " Document(page_content='5.1: 6.5\\n3.5: 3\\n1.4: 5.5\\n0.2: 1.8\\nIris-setosa: Iris-virginica', metadata={'source': 'Iris.csv', 'row': 115}),\n",
       " Document(page_content='5.1: 7.7\\n3.5: 3.8\\n1.4: 6.7\\n0.2: 2.2\\nIris-setosa: Iris-virginica', metadata={'source': 'Iris.csv', 'row': 116}),\n",
       " Document(page_content='5.1: 7.7\\n3.5: 2.6\\n1.4: 6.9\\n0.2: 2.3\\nIris-setosa: Iris-virginica', metadata={'source': 'Iris.csv', 'row': 117}),\n",
       " Document(page_content='5.1: 6\\n3.5: 2.2\\n1.4: 5\\n0.2: 1.5\\nIris-setosa: Iris-virginica', metadata={'source': 'Iris.csv', 'row': 118}),\n",
       " Document(page_content='5.1: 6.9\\n3.5: 3.2\\n1.4: 5.7\\n0.2: 2.3\\nIris-setosa: Iris-virginica', metadata={'source': 'Iris.csv', 'row': 119}),\n",
       " Document(page_content='5.1: 5.6\\n3.5: 2.8\\n1.4: 4.9\\n0.2: 2\\nIris-setosa: Iris-virginica', metadata={'source': 'Iris.csv', 'row': 120}),\n",
       " Document(page_content='5.1: 7.7\\n3.5: 2.8\\n1.4: 6.7\\n0.2: 2\\nIris-setosa: Iris-virginica', metadata={'source': 'Iris.csv', 'row': 121}),\n",
       " Document(page_content='5.1: 6.3\\n3.5: 2.7\\n1.4: 4.9\\n0.2: 1.8\\nIris-setosa: Iris-virginica', metadata={'source': 'Iris.csv', 'row': 122}),\n",
       " Document(page_content='5.1: 6.7\\n3.5: 3.3\\n1.4: 5.7\\n0.2: 2.1\\nIris-setosa: Iris-virginica', metadata={'source': 'Iris.csv', 'row': 123}),\n",
       " Document(page_content='5.1: 7.2\\n3.5: 3.2\\n1.4: 6\\n0.2: 1.8\\nIris-setosa: Iris-virginica', metadata={'source': 'Iris.csv', 'row': 124}),\n",
       " Document(page_content='5.1: 6.2\\n3.5: 2.8\\n1.4: 4.8\\n0.2: 1.8\\nIris-setosa: Iris-virginica', metadata={'source': 'Iris.csv', 'row': 125}),\n",
       " Document(page_content='5.1: 6.1\\n3.5: 3\\n1.4: 4.9\\n0.2: 1.8\\nIris-setosa: Iris-virginica', metadata={'source': 'Iris.csv', 'row': 126}),\n",
       " Document(page_content='5.1: 6.4\\n3.5: 2.8\\n1.4: 5.6\\n0.2: 2.1\\nIris-setosa: Iris-virginica', metadata={'source': 'Iris.csv', 'row': 127}),\n",
       " Document(page_content='5.1: 7.2\\n3.5: 3\\n1.4: 5.8\\n0.2: 1.6\\nIris-setosa: Iris-virginica', metadata={'source': 'Iris.csv', 'row': 128}),\n",
       " Document(page_content='5.1: 7.4\\n3.5: 2.8\\n1.4: 6.1\\n0.2: 1.9\\nIris-setosa: Iris-virginica', metadata={'source': 'Iris.csv', 'row': 129}),\n",
       " Document(page_content='5.1: 7.9\\n3.5: 3.8\\n1.4: 6.4\\n0.2: 2\\nIris-setosa: Iris-virginica', metadata={'source': 'Iris.csv', 'row': 130}),\n",
       " Document(page_content='5.1: 6.4\\n3.5: 2.8\\n1.4: 5.6\\n0.2: 2.2\\nIris-setosa: Iris-virginica', metadata={'source': 'Iris.csv', 'row': 131}),\n",
       " Document(page_content='5.1: 6.3\\n3.5: 2.8\\n1.4: 5.1\\n0.2: 1.5\\nIris-setosa: Iris-virginica', metadata={'source': 'Iris.csv', 'row': 132}),\n",
       " Document(page_content='5.1: 6.1\\n3.5: 2.6\\n1.4: 5.6\\n0.2: 1.4\\nIris-setosa: Iris-virginica', metadata={'source': 'Iris.csv', 'row': 133}),\n",
       " Document(page_content='5.1: 7.7\\n3.5: 3\\n1.4: 6.1\\n0.2: 2.3\\nIris-setosa: Iris-virginica', metadata={'source': 'Iris.csv', 'row': 134}),\n",
       " Document(page_content='5.1: 6.3\\n3.5: 3.4\\n1.4: 5.6\\n0.2: 2.4\\nIris-setosa: Iris-virginica', metadata={'source': 'Iris.csv', 'row': 135}),\n",
       " Document(page_content='5.1: 6.4\\n3.5: 3.1\\n1.4: 5.5\\n0.2: 1.8\\nIris-setosa: Iris-virginica', metadata={'source': 'Iris.csv', 'row': 136}),\n",
       " Document(page_content='5.1: 6\\n3.5: 3\\n1.4: 4.8\\n0.2: 1.8\\nIris-setosa: Iris-virginica', metadata={'source': 'Iris.csv', 'row': 137}),\n",
       " Document(page_content='5.1: 6.9\\n3.5: 3.1\\n1.4: 5.4\\n0.2: 2.1\\nIris-setosa: Iris-virginica', metadata={'source': 'Iris.csv', 'row': 138}),\n",
       " Document(page_content='5.1: 6.7\\n3.5: 3.1\\n1.4: 5.6\\n0.2: 2.4\\nIris-setosa: Iris-virginica', metadata={'source': 'Iris.csv', 'row': 139}),\n",
       " Document(page_content='5.1: 6.9\\n3.5: 3.1\\n1.4: 5.1\\n0.2: 2.3\\nIris-setosa: Iris-virginica', metadata={'source': 'Iris.csv', 'row': 140}),\n",
       " Document(page_content='5.1: 5.8\\n3.5: 2.7\\n1.4: 5.1\\n0.2: 1.9\\nIris-setosa: Iris-virginica', metadata={'source': 'Iris.csv', 'row': 141}),\n",
       " Document(page_content='5.1: 6.8\\n3.5: 3.2\\n1.4: 5.9\\n0.2: 2.3\\nIris-setosa: Iris-virginica', metadata={'source': 'Iris.csv', 'row': 142}),\n",
       " Document(page_content='5.1: 6.7\\n3.5: 3.3\\n1.4: 5.7\\n0.2: 2.5\\nIris-setosa: Iris-virginica', metadata={'source': 'Iris.csv', 'row': 143}),\n",
       " Document(page_content='5.1: 6.7\\n3.5: 3\\n1.4: 5.2\\n0.2: 2.3\\nIris-setosa: Iris-virginica', metadata={'source': 'Iris.csv', 'row': 144}),\n",
       " Document(page_content='5.1: 6.3\\n3.5: 2.5\\n1.4: 5\\n0.2: 1.9\\nIris-setosa: Iris-virginica', metadata={'source': 'Iris.csv', 'row': 145}),\n",
       " Document(page_content='5.1: 6.5\\n3.5: 3\\n1.4: 5.2\\n0.2: 2\\nIris-setosa: Iris-virginica', metadata={'source': 'Iris.csv', 'row': 146}),\n",
       " Document(page_content='5.1: 6.2\\n3.5: 3.4\\n1.4: 5.4\\n0.2: 2.3\\nIris-setosa: Iris-virginica', metadata={'source': 'Iris.csv', 'row': 147}),\n",
       " Document(page_content='5.1: 5.9\\n3.5: 3\\n1.4: 5.1\\n0.2: 1.8\\nIris-setosa: Iris-virginica', metadata={'source': 'Iris.csv', 'row': 148})]"
      ]
     },
     "execution_count": 9,
     "metadata": {},
     "output_type": "execute_result"
    }
   ],
   "source": [
    "data"
   ]
  },
  {
   "cell_type": "code",
   "execution_count": 10,
   "id": "9df8b05b-7ace-42af-9a28-8d569c3d8e72",
   "metadata": {
    "collapsed": true,
    "jupyter": {
     "outputs_hidden": true
    }
   },
   "outputs": [
    {
     "name": "stdout",
     "output_type": "stream",
     "text": [
      "{'source': 'Iris.csv', 'row': 1}\n"
     ]
    }
   ],
   "source": [
    "print(data[1].metadata)"
   ]
  },
  {
   "cell_type": "code",
   "execution_count": 11,
   "id": "9d8a7d24-3041-4f3f-83c8-8b5090714745",
   "metadata": {},
   "outputs": [
    {
     "name": "stdout",
     "output_type": "stream",
     "text": [
      "5.1: 4.9\n",
      "3.5: 3\n",
      "1.4: 1.4\n",
      "0.2: 0.2\n",
      "Iris-setosa: Iris-setosa\n"
     ]
    }
   ],
   "source": [
    "print(data[0].page_content)"
   ]
  },
  {
   "cell_type": "code",
   "execution_count": 12,
   "id": "5f773a83-507a-45cd-9abb-cc75e39d7860",
   "metadata": {},
   "outputs": [
    {
     "name": "stdout",
     "output_type": "stream",
     "text": [
      "5.1: 4.7\n",
      "3.5: 3.2\n",
      "1.4: 1.3\n",
      "0.2: 0.2\n",
      "Iris-setosa: Iris-setosa\n"
     ]
    }
   ],
   "source": [
    "print(data[1].page_content)"
   ]
  }
 ],
 "metadata": {
  "kernelspec": {
   "display_name": "Python 3 (ipykernel)",
   "language": "python",
   "name": "python3"
  },
  "language_info": {
   "codemirror_mode": {
    "name": "ipython",
    "version": 3
   },
   "file_extension": ".py",
   "mimetype": "text/x-python",
   "name": "python",
   "nbconvert_exporter": "python",
   "pygments_lexer": "ipython3",
   "version": "3.13.1"
  }
 },
 "nbformat": 4,
 "nbformat_minor": 5
}
