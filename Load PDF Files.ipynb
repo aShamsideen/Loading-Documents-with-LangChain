{
 "cells": [
  {
   "cell_type": "markdown",
   "id": "49dc4ebf-e509-40d8-b36f-165029aefaeb",
   "metadata": {},
   "source": [
    "Load from Local Directory"
   ]
  },
  {
   "cell_type": "code",
   "execution_count": 1,
   "id": "2245d85c-0100-4a97-a96a-798fb5047cf3",
   "metadata": {},
   "outputs": [],
   "source": [
    "from langchain_community.document_loaders import PyPDFLoader"
   ]
  },
  {
   "cell_type": "code",
   "execution_count": 2,
   "id": "989030e3-fed1-4a12-a26e-539af40a88e4",
   "metadata": {},
   "outputs": [
    {
     "name": "stdout",
     "output_type": "stream",
     "text": [
      " Volume in drive C has no label.\n",
      " Volume Serial Number is 00D0-C500\n",
      "\n",
      " Directory of C:\\Users\\HP\\Desktop\\DS-ML\\GENERATIVE AI\\LangChain Tutorial\n",
      "\n",
      "05/05/2024  01:27 AM    <DIR>          .\n",
      "05/05/2024  01:27 AM    <DIR>          ..\n",
      "05/05/2024  01:25 AM    <DIR>          .ipynb_checkpoints\n",
      "05/05/2024  12:33 AM             4,556 iris.csv\n",
      "05/05/2024  01:22 AM         3,908,008 Load all Text Files at Once from a Folder.ipynb\n",
      "05/05/2024  01:27 AM             1,005 Load PDF Files.ipynb\n",
      "05/05/2024  12:39 AM            25,907 Loading CSV File with LangChain.ipynb\n",
      "05/05/2024  01:28 AM    <DIR>          pdf_files\n",
      "05/05/2024  12:49 AM    <DIR>          text_files\n",
      "               4 File(s)      3,939,476 bytes\n",
      "               5 Dir(s)  78,990,282,752 bytes free\n"
     ]
    }
   ],
   "source": [
    "ls"
   ]
  },
  {
   "cell_type": "code",
   "execution_count": 3,
   "id": "5f19d1bb-c2c4-478d-84c3-a2bdc19514ad",
   "metadata": {},
   "outputs": [
    {
     "data": {
      "text/plain": [
       "'C:\\\\Users\\\\HP\\\\Desktop\\\\DS-ML\\\\GENERATIVE AI\\\\LangChain Tutorial'"
      ]
     },
     "execution_count": 3,
     "metadata": {},
     "output_type": "execute_result"
    }
   ],
   "source": [
    "pwd"
   ]
  },
  {
   "cell_type": "code",
   "execution_count": 12,
   "id": "807d25db-650e-4032-9144-391a65668776",
   "metadata": {},
   "outputs": [],
   "source": [
    "loader = PyPDFLoader('anchor-borrowers-programme-guidelines-dec-2016.pdf')"
   ]
  },
  {
   "cell_type": "code",
   "execution_count": 13,
   "id": "56c415f5-d2a5-4bee-a6dc-2d62410d0926",
   "metadata": {},
   "outputs": [
    {
     "data": {
      "text/plain": [
       "<langchain_community.document_loaders.pdf.PyPDFLoader at 0x1c55a887ed0>"
      ]
     },
     "execution_count": 13,
     "metadata": {},
     "output_type": "execute_result"
    }
   ],
   "source": [
    "loader"
   ]
  },
  {
   "cell_type": "code",
   "execution_count": 14,
   "id": "85274423-a2ca-4fc6-8dcf-9954d1ab9a47",
   "metadata": {},
   "outputs": [
    {
     "data": {
      "text/plain": [
       "[Document(page_content='Anchor Borrowers’ Programme  Guidelines  \\n \\n   \\n \\n \\nDevelopment Finance Department        \\nCentral Bank of Nigeria  \\n \\n \\n \\n \\n \\n \\n \\n \\n \\n \\n \\n(Decemb er, 201 6)', metadata={'source': 'anchor-borrowers-programme-guidelines-dec-2016.pdf', 'page': 0}),\n",
       " Document(page_content='1 \\n CHAPTER ONE  \\n1.1. BACKGROUND  \\nThe Central Bank of Nigeria (CBN) in line with its \\ndevelopmental function established t he Anchor Borrowers’ \\nProgramme (ABP) .  The Programme which was launched by \\nPresident Muhammadu Buhari (GCFR) on November 17, 2015 \\nis intended to create a linkage between anch or companies \\ninvolved in the processing and small holder farmers  (SHFs) of \\nthe req uired key agricultural commodities . The programme \\nthrust of the ABP is provision of farm inputs in kind and cash  \\n(for farm labour) to small holder farmers to  boost production \\nof these commodities, stabilize inputs supply to agro \\nprocessors and address the country’s negative balance of \\npayments on food .  At harvest, the SHF supplies  his/he r \\nproduce to the Agro -processor  (Anchor ) who pays the cash \\nequivalent to the farmer’s account.  \\nThe Programme evolved from the consultations with \\nstakeholders comprising Fed eral Ministry of Agriculture & Rural \\nDevelopment, State Governors, millers of agricultural \\nproduce, and s mallholder farmers to boost agricultural \\nproduction and non -oil exports in the face of unpredictable \\ncrude  oil prices  and its resultant effect on the r evenue profile \\nof Nigeria .', metadata={'source': 'anchor-borrowers-programme-guidelines-dec-2016.pdf', 'page': 1}),\n",
       " Document(page_content='2 \\n 1.2. Objective  \\nThe broad objective of the ABP is to create economic linkage  \\nbetween smallholder farmers and reputable large -scale \\nprocessors with a view to increasing agricultural output and \\nsignificantly improving capacity utilizati on of processors . \\nOther objectives include:  \\n\\uf0b7 Increase banks’ financing to the agricultural sector  \\n\\uf0b7 Reduce agricultural commodity importation and \\nconserve external reserves   \\n\\uf0b7 Increase capacity utilization of agricultural firms  \\n\\uf0b7 Create new generation of farmers /entrepreneurs and \\nemployment  \\n\\uf0b7 Deepen the cashless policy and financial inclusion  \\n\\uf0b7 Reduce the level of poverty among smallholder farmers  \\n\\uf0b7 Assist rural smallholder farmers to grow from subsistence \\nto commercial production levels.  \\n \\n1.3. Targeted Beneficiaries  \\nThe loan  shall be targeted at smallholder farmers engaged in \\nthe production of  identified commodities across the country.  \\nThe Farmers should be in groups/c ooperative(s)  of between 5 \\nand 20 for ease of administration . \\n \\n1.4. Identified Agricultural Commodities  \\nThe ta rgeted commodities of compara tive advantage to the \\nState shall include  but not limited to :', metadata={'source': 'anchor-borrowers-programme-guidelines-dec-2016.pdf', 'page': 2}),\n",
       " Document(page_content='3 \\n \\uf0b7 Cereal s (Rice, Maize, wheat etc.)  \\n\\uf0b7 Cotton  \\n\\uf0b7 Roots and Tubers (C assava , Potatoes, Yam, Ginger etc.)  \\n\\uf0b7 Sugarcane  \\n\\uf0b7 Tree crops ( Oil palm , Cocoa, Rubber etc.)  \\n\\uf0b7 Legumes ( Soybea n, Sesame seed , Cowpea etc.)  \\n\\uf0b7 Tomato  \\n\\uf0b7 Livestock ( Fish, Poultry, Ruminants etc.)  \\nAny other commodity that will be introduced by the CBN \\nfrom time to time.  \\n \\n1.5. Eligible Participating Financial Institutions (PFIs)  \\nThe loan  shall be disbursed through any of these PFIs:  \\n\\uf0b7 Deposit Money Banks (DMBs)  \\n\\uf0b7 Development  Finance Institutions (DFIs)  \\n\\uf0b7 Microfinance Banks (MFBs)  \\n \\n1.6. The Anchor  \\nThis shall be private large -scale  integrated processors who  \\nhave entered into  an agreement  with the SHF s to off -take the \\nharvested produce at t he agreed prices  or as may be \\nreviewed by the PMT . State Government s may act as Anchor \\nupon meeti ng the prescribed conditions.  \\n \\n1.7. Inputs Suppliers  \\nThe input suppliers shall submit expression of interest letter  to \\nthe office of the PMT for consideration and issuance of local \\npurchase orders.', metadata={'source': 'anchor-borrowers-programme-guidelines-dec-2016.pdf', 'page': 3}),\n",
       " Document(page_content='4 \\n 1.8. The Loan  Amount  \\nThe Fund shall be provided from  the N220 billion Micro, Small \\nand Medium Enterprises Development Fund (MSMEDF) . Loan  \\namount for each SHF shall be arrived upon from the \\neconomics of production agreed with stakeholders.  \\n \\n1.9. Interest Rate  \\nInterest rate under the ABP shall be guided by the rate on the \\nN220 billion MSMEDF, which  is currently at  9% p.a (all inclusive , \\npre and post disbursement ). The PFIs shall access at 2 % from \\nthe CBN and lend at  a maximum of  9% p.a. \\n \\n1.10.  Tenor  \\nThe tenor of loan s under the ABP shall be the gestation period \\nof the identified commodities.  \\n \\n1.11.  Repayment  \\nLoan s granted to the SHF s shall be repaid with the harvested \\nproduce that shall be mandatorily delivered to the Anchor at \\ndesignated  collect ion center  in line with the provisions of the \\nAgreement signed. The produce to be delivered must cover \\nthe loan  principal and interest.', metadata={'source': 'anchor-borrowers-programme-guidelines-dec-2016.pdf', 'page': 4}),\n",
       " Document(page_content='5 \\n CHAPTER TWO  \\n2.0 Management and Administration of the ABP   \\nThere shall be two mode ls of administration of ABP based on \\nthe a nchor arrangement namely: Private  Sector -led and \\nState windows . Under each mode l, a Project M anagement  \\nTeam (PMT) shall be established to coordinate the  \\nimplementation  of the programme . \\n \\n2.1  Private Sector -led Wi ndow  \\nThe PMT under the Private Sector -led Window shall be \\nconstituted as follows:  \\n\\uf0b7 Head DFO , CBN – Chairman  \\n\\uf0b7 Representatives of Anchor Firms  – Co-Chairman  \\n\\uf0b7 Programme Manager , State Agricultur al Development \\nProgramme  (ADP)  \\n\\uf0b7 Representatives  of participating Banks  \\n\\uf0b7 Representatives of farmers associations  \\n\\uf0b7 Nigerian Agricultural Insurance Corporation (NAIC)  \\n \\n2.2 State Window  \\nThe PMT under the State Window shall be constituted with \\nrepresentatives of stakeholders as follows:  \\n\\uf0b7 Head DFO, CBN as Chairman to be co -chaired by the \\nperson appointed by the State Governm ent. \\n\\uf0b7 A representative of State Governments/Ministry of \\nAgriculture and Rural Development/Agricultur al \\nDevelopment Pro gramme  (ADP)', metadata={'source': 'anchor-borrowers-programme-guidelines-dec-2016.pdf', 'page': 5}),\n",
       " Document(page_content='6 \\n \\uf0b7 Participating Banks  \\n\\uf0b7 Anchor Firms  \\n\\uf0b7 Nigerian Agricultural Insurance Corporation (NAIC)  \\n\\uf0b7 Representatives of farmers associations  \\n \\n2.3 Process Flow of The Anchor Borrowers’ Programme (ABP)  \\nThe activities shall include:  \\n\\uf0b7 Expression of Interest Letter to the CBN  by the \\nAnchor/ State Government indicating  the targeted \\nagricultural commodities , proposed number of farmers , \\nthe hectares to be cove red and the PFI(s)  etc.  \\n\\uf0b7 Formation of the PMT  \\n\\uf0b7 Verification  of the farmers  and farm size s by the PMT  \\n\\uf0b7 Confirmation of participation  by the Head Offices of  the \\nPFI(s)  \\n\\uf0b7 Identification of reputable agricultural inputs suppliers  by \\nthe PMT  \\n\\uf0b7 Organization of  Town H all Meeting to agree on the \\neconomics of production per hectare, offtake price, \\nsigning of Agreement , and any other relevant issues. The \\nmeeting shall have in attendance all the stakeholders \\nincluding the inputs suppliers.  \\n\\uf0b7 Signing of tripartite Agreement  by the PFI, Anchor and \\nthe farmers  \\n\\uf0b7 Submission of loan  application s from Head Offices of P FIs \\nwith the list of farmers in the prescribed format with', metadata={'source': 'anchor-borrowers-programme-guidelines-dec-2016.pdf', 'page': 6}),\n",
       " Document(page_content='7 \\n accounts numbers, gender, farm size, BVN, Telephone  \\nnumbers, cooperative name and LGA  \\n\\uf0b7 Registration of farmer s on the National Collateral Registry \\n(NCR).  \\n \\n2.4 Capacity Building of the Farmers  \\nA mandatory training programme shall apply for farmers that \\nwill participate under the ABP covering ; \\n\\uf0b7 Farming as a business  \\n\\uf0b7 Improved agricultural practices  \\n\\uf0b7 Group management dynam ics \\nThe cost of such training shall be borne by the participating \\nanchor . However, partnership s with Development Partners \\nare encouraged on the training of the farmers.  \\nCertificates issued at the end of the training shall constitute a \\nrequirement for farme rs to access credit facility in kind and \\ncash  under the programme.  \\n \\n2.5 Provision of Extension Services  \\nThe Anchor/ State Governments  shall be required to provide \\nextension services to complement the training,  ensure \\nadherence to good agricultural practices and  mitigate side \\nselling.  \\n \\n2.6 Collateral Under the ABP  \\nThe following shall be collateral to be pledged by SHFs under \\nthe programme:', metadata={'source': 'anchor-borrowers-programme-guidelines-dec-2016.pdf', 'page': 7}),\n",
       " Document(page_content='8 \\n \\uf0b7 Cross and several guarantee by farmers in cooperatives  \\n\\uf0b7 Tripartite Agreement signed by the parties  \\n\\uf0b7 Cross and several guarantee by farmers in cooperatives \\nregistered  on the National Collateral Registry (NCR ) \\n\\uf0b7 Equity  Contribution  (minimum of 5%)by the farmers  \\nNote:  \\no Participating farmers under the Programme must deposit the \\nminimum equity requirement in their accounts with the PFI befor e \\nloan disbursement  \\no No input would be distributed to any farmer that has not provided \\nthe equity contribution  \\no Any PFI that contravenes this basic risk requirement would be \\nsanctioned  \\n  \\n2.7 Determination of Planting Season  \\nThe planting season to be adopted sha ll be advised by the \\nMinistry of Agriculture/ State Agricultur al Development \\nProgramme  (ADP)  from the state planting calendars . \\n \\n2.8 Side Selling  \\nSide Selling  by the farmers is prohibited and shall  attract \\napplicable sanctio ns as indicated in Section 4.3  \\n \\n2.9 Risk Sharing  \\nIn order to engender participation of PFIs in the programme, \\nthe CBN shall absorb  50% of the amount in default after \\nsatisfactory evidence that every means of loan  recovery has', metadata={'source': 'anchor-borrowers-programme-guidelines-dec-2016.pdf', 'page': 8}),\n",
       " Document(page_content='9 \\n been exhausted by the PFI . The PFI shall bear the credit risk of \\nthe balance.', metadata={'source': 'anchor-borrowers-programme-guidelines-dec-2016.pdf', 'page': 9}),\n",
       " Document(page_content='10 \\n CHAPTER THREE  \\n \\n3.0 ROLES AND RESPONSIBILITIES OF STAKEHOLDERS  \\n3.1 Central Bank of Nigeria  \\n Shall : \\n\\uf0b7 Provide the funds through the MSMEDF  \\n\\uf0b7 Coordinate the entire Programme  \\n\\uf0b7 Serve as Secretariat  \\n\\uf0b7 Chair/ Co-chair the  PMT \\n\\uf0b7 Review the provisions of the guideli nes as deemed \\nnecessary  \\n \\n3.2 Nigerian Agricultural  Insurance Corporation (NAIC)  \\n Shall:  \\n\\uf0b7 Provide insurance c over to the projects under the \\nProgramme  \\n\\uf0b7 Ensure timely processing and settlement of claims  \\n\\uf0b7 Serve as member of the PMT  \\n \\n3.3 Development Partners  \\n Shall: \\n\\uf0b7 Provide technical assistance to farmers, extension workers \\nand banks  \\n\\uf0b7 May s erve as member of the PMT in partner States', metadata={'source': 'anchor-borrowers-programme-guidelines-dec-2016.pdf', 'page': 10}),\n",
       " Document(page_content='11 \\n  \\n3.4 Participating Financing Institutions : \\nShall : \\n\\uf0b7 Verify eligible farmers and their farmlands  \\n\\uf0b7 Open account for the farmers  \\n\\uf0b7 Ensure due d iligence on loan  administration, monitoring \\nand recovery  \\n\\uf0b7 Conduct searches on the National Collateral Registry \\n(NCR) to ensure that none of the group member is in \\ndefault of any other loan  facility in any financial institution.  \\n\\uf0b7 First applications for releas e of funds by PFIs MUST be \\naccompanied by copies of executed tripartite \\nAgreements. (See 2.3)  \\n\\uf0b7 Register their interest  in the collateral on the National \\nCollateral Registry (NCR)  as second and any subsequent \\napplications for release of funds by PFIs MUST be  \\naccompanied by evidence of COMPLETE registrations.   \\n\\uf0b7 Sensitize the group members on the implication of the \\ncross -guarantee as default by one member of the \\ncooperative automatically puts all members in default \\nirrespective of other members paying their indi vidual \\nloan s.  \\n\\uf0b7 Apply for release of funds after completion of all the \\nrequired conditions precedent to drawdown  \\n\\uf0b7 Credit individual farmer ’s account with the released funds \\nwithin 5 working days', metadata={'source': 'anchor-borrowers-programme-guidelines-dec-2016.pdf', 'page': 11}),\n",
       " Document(page_content='12 \\n \\uf0b7 Render monthly returns under the Scheme to the CBN in \\nthe presc ribed reporting format  \\n\\uf0b7 Serve as member of PMT  \\n\\uf0b7 Carry out a ny other responsibilities as may be prescribed \\nby the CBN from time to time  \\n \\n3.5   Small Holder Farmers  \\n Shall : \\n\\uf0b7 Organize themselves into groups/ cooperatives  \\n\\uf0b7 Cross guarantee one another  \\n\\uf0b7 Must  demonstr ate evidence of farm ownership/l ease/rent \\nand agree to work with extension workers  \\n\\uf0b7 Utilize the facility ( kind and cash ) for the purpose for which \\nit was granted  \\n\\uf0b7 Commit to abide by the terms of agreement and not  to \\nside sell  produce  \\n\\uf0b7 Repay the loan  as and when d ue by surrendering the \\noutput to the Anchor or State  \\n\\uf0b7 Provide equity contribution in cash of minimum of 5 per \\ncent of loan  amount  \\n\\uf0b7 Representative of the Small Holder F armer association to \\nserve on the PMT  \\n\\uf0b7 Ensure participating member open bank account and  \\nobtain Bank Verification Number (BVN).', metadata={'source': 'anchor-borrowers-programme-guidelines-dec-2016.pdf', 'page': 12}),\n",
       " Document(page_content='13 \\n 3.6 State Government/FCT  \\nShall:  \\n\\uf0b7 Co-Chair the public sector ABP PMT  \\n\\uf0b7 Submit Expression of Interest to participate under the ABP  \\n\\uf0b7 Identification of the two targeted agricultural \\ncommodities  \\n\\uf0b7 Provide extension services to all participating farmers  \\n\\uf0b7 Provide logistics support for the success of the programme  \\nincluding training for the  farmers and extension services.  \\n\\uf0b7 Establish  a special ‘farmers’ court’ to try defaulting parties  \\n\\uf0b7 Train identified farmers for participati on unde r ABP  \\n\\uf0b7 Where State act as Anchor, must uptake  the farmers \\nproduce and pay t he farmers through the PFI within 5 \\ndays at an agreed price  \\n\\uf0b7 Carry out a ny other responsibilities as may be prescribed \\nby the CBN from time to time  \\n \\n3.7 Anchor Compan y \\nShall:  \\n• Co-Cha ir the PMT of the private sector ABP  \\n• Identify and organize farmers into groups/ co-operatives.  \\n\\uf0b7 Participate in the identif ication of  input suppliers  \\n\\uf0b7 Train identified farmers for participation under ABP  \\n\\uf0b7 Provide extension service experts to support and ensur e \\nachievement of the targeted yield  \\n\\uf0b7 Monitor harvest and facilitate full evacuation of produce', metadata={'source': 'anchor-borrowers-programme-guidelines-dec-2016.pdf', 'page': 13}),\n",
       " Document(page_content='14 \\n \\uf0b7 Establish produce collection centers.  \\n\\uf0b7 Buy-up produce from farmers at agreed price  \\n\\uf0b7 Pay into farmers’ loan  account for the produce delivered \\nwithin 48 hours  \\n\\uf0b7 Carry o ut any other responsibilities as may be prescribed \\nby the CBN from time to time  \\n \\n3.8 ROLE OF PROJECT MANAGEMENT TEAM (PMT)  \\nShall:  \\n\\uf0b7 Coordinat e project implementation   \\n\\uf0b7 Coordinate  discussions on  cost of production per hectare  \\n\\uf0b7 Communicate the decisions taken on  the project to \\nstakeholders  \\n\\uf0b7 Identif y genuine input suppliers  \\n\\uf0b7 Coordinat e and monitor project to ensure repayment  \\n\\uf0b7 Issue Local Purchase Order (LPOs)  \\n\\uf0b7 Ensure timely distribution of inputs  \\n\\uf0b7 Escalat e issues that cannot be resolved in the team to the \\nrelevant au thorities  \\n\\uf0b7 Make sure the programme is delivered and implemented \\nas scheduled and within scope.  \\n \\n3.9 Nigerian Incentive -Based Risk Sharing System for \\nAgricultural  Lending (N IRSAL ) \\n Shall : \\n\\uf0b7 Collaborate on Technical Assistance .', metadata={'source': 'anchor-borrowers-programme-guidelines-dec-2016.pdf', 'page': 14}),\n",
       " Document(page_content='15 \\n CHAPTER FOUR  \\n4.0 INFRACTIONS AND  SANCTIONS  \\n \\nS/N Infractions  Sanctions  \\n4.1      PFI \\n1 Diversion of \\nfunds to \\nunauthorized \\nactivities  \\n \\uf0b7 Amount diverted shall be \\nrecovered by the CBN.  \\n\\uf0b7 Penal charge at the maximum \\nlending rate of the PFI  on the \\namount diverted.  \\n\\uf0b7 Outright ban from participatin g \\nunder other CBN Interventions  \\nfollowing another  infraction  \\n2 Charging of un-\\nauthorized  \\nfees/interest  \\uf0b7 Reversal of the charged \\nfees/interest  \\n\\uf0b7 Issuance of warning  letter to the \\nPFI \\n\\uf0b7 Outright ban from participating \\nunder other CBN Interventions \\nafter two inf ractions  \\n3 Charging of \\ninterest rates \\nhigher than \\nprescribed  \\uf0b7 Reversal of excess interest \\ncharged.  \\n\\uf0b7  Penal charge at the maximum \\nlending rate of the PFI   \\n\\uf0b7 Issuance of warning  letter to the \\nPFI', metadata={'source': 'anchor-borrowers-programme-guidelines-dec-2016.pdf', 'page': 15}),\n",
       " Document(page_content='16 \\n 4 Failure to \\ndisburse funds \\nwithin  specified \\nperiod to the \\nborro wers  \\uf0b7 Penal charge at the maximum \\nlending rate of the PFI   \\n\\uf0b7 Recovery of the undisbursed \\namount plus interest  \\n4.2     Anchor  \\n1 Failure to \\ncollect certified \\nquality output \\nfrom farmers \\nafter going into \\nagreement as \\nthe Anchor to \\nthe farmers  \\uf0b7 Anchor will cease  to participate \\nunder the programme.  \\n\\uf0b7 Anchor will not be allowed to \\naccess agricultural and other \\nCBN interventions  \\n2 Failure to pay \\nfor collected \\ncommodities \\nwithin the \\nspecified \\nperiod  \\uf0b7 Anchor to bear the cost of  \\naccrued  interest on the farmers’ \\naccount from the due date  \\n \\n4.3    Small Holder Farmers  (SHF)  \\n1 Side-selling  \\uf0b7 Total prohibition from all CBN \\ninterventions . \\n\\uf0b7 Blacklisting of the SHF on any \\nintervention by the CBN  \\n\\uf0b7 Prosecution of the S HF', metadata={'source': 'anchor-borrowers-programme-guidelines-dec-2016.pdf', 'page': 16}),\n",
       " Document(page_content='17 \\n \\uf0b7 Payment of the loan  by the \\nguarantors  and cooperatives  \\n2 Inpu t Diversion  \\uf0b7 Blacklisting of the SHF on any \\nintervention by the CBN  \\n\\uf0b7 Repayment of the loan  by the \\nguarantors  and cooperative  \\nmembers  \\n3 Refusal to \\nSubmit \\nCommodities  \\nto the Anchor  \\uf0b7 Blacklisting of the SHF on any \\nintervention by the CBN  \\n\\uf0b7 Prosecution of the S HF \\n\\uf0b7 Repayment of the loan  by the \\nguarantors  and cooperative \\nmembers  \\n4 Diversion of \\nFunds  \\uf0b7 Blacklisting of the SHF on any \\nintervention by the CBN  \\n\\uf0b7 Prosecution of the S HF \\n\\uf0b7 Repayment of the loan  by the \\nguarantors  and cooperative \\nmembers  \\n4.4   Project Monitoring Te am \\n1 Insider related \\ncontracts and \\ninflation of \\ncontract figures  \\uf0b7 Suspension/ Prosecution of the \\nculpable member(s)  \\n\\uf0b7 Report the culpable member(s) \\nto the relevant institution(s)', metadata={'source': 'anchor-borrowers-programme-guidelines-dec-2016.pdf', 'page': 17}),\n",
       " Document(page_content='18 \\n LIST OF ABBREVIATIONS AND ACRONYMS   \\nABP:   Anchor Borrowers’ Programme  \\nADP :  Agricultur al Development Programme   \\nBVN:  Bank Verification Number  \\nCBN:   Central Bank of Nigeria  \\nDFIs:   Development  Finance Institutions  \\nDFO:  Development Finance Officer  \\nDMBs:   Deposit Money Banks  \\nFCT:   Federal Capital Territory  \\nLGA:  Local Government Ar ea \\nMFBs:  Microfinance Banks  \\nMSMEDF: Micro, Small and Medium Enterprises Development \\nFund  \\nNAIC:   Nigerian Agricultural Insurance Corporation  \\nNCR:  National Collateral Registry  \\nNIRSAL:  Nigerian Incentive -Based Risk Sharing System for \\nAgricultural Lendin g \\nP.A:  Per Annum  \\nPFIs:  Participating Financial Institutions  \\nPMT:   Project Management Team  \\nSHF:  Small Holder Farmer  \\n \\n \\n \\n \\nAll Enquiries and Returns should be addressed to:  \\nThe Director,  \\nDevelopment Finance Department,  \\nCentral Bank of Nigeria,  \\nCorporate H eadquarters  \\nCentral Business District,  \\nAbuja, Nigeria  \\nFax: 09-46238655  \\nwww.cbn.gov.ng', metadata={'source': 'anchor-borrowers-programme-guidelines-dec-2016.pdf', 'page': 18})]"
      ]
     },
     "execution_count": 14,
     "metadata": {},
     "output_type": "execute_result"
    }
   ],
   "source": [
    "pages = loader.load_and_split()\n",
    "pages"
   ]
  },
  {
   "cell_type": "code",
   "execution_count": 15,
   "id": "996bf887-739f-422d-bdd5-f8cc8ec83336",
   "metadata": {},
   "outputs": [
    {
     "data": {
      "text/plain": [
       "list"
      ]
     },
     "execution_count": 15,
     "metadata": {},
     "output_type": "execute_result"
    }
   ],
   "source": [
    "type(pages)"
   ]
  },
  {
   "cell_type": "code",
   "execution_count": 18,
   "id": "941830cf-9c46-434a-a829-c8e49cac512a",
   "metadata": {},
   "outputs": [
    {
     "name": "stdout",
     "output_type": "stream",
     "text": [
      "Anchor Borrowers’ Programme  Guidelines  \n",
      " \n",
      "   \n",
      " \n",
      " \n",
      "Development Finance Department        \n",
      "Central Bank of Nigeria  \n",
      " \n",
      " \n",
      " \n",
      " \n",
      " \n",
      " \n",
      " \n",
      " \n",
      " \n",
      " \n",
      " \n",
      "(Decemb er, 201 6)\n"
     ]
    }
   ],
   "source": [
    "print(pages[0].page_content)"
   ]
  },
  {
   "cell_type": "code",
   "execution_count": 19,
   "id": "f18db61e-5705-479f-a631-a8468d27890a",
   "metadata": {},
   "outputs": [
    {
     "name": "stdout",
     "output_type": "stream",
     "text": [
      "1 \n",
      " CHAPTER ONE  \n",
      "1.1. BACKGROUND  \n",
      "The Central Bank of Nigeria (CBN) in line with its \n",
      "developmental function established t he Anchor Borrowers’ \n",
      "Programme (ABP) .  The Programme which was launched by \n",
      "President Muhammadu Buhari (GCFR) on November 17, 2015 \n",
      "is intended to create a linkage between anch or companies \n",
      "involved in the processing and small holder farmers  (SHFs) of \n",
      "the req uired key agricultural commodities . The programme \n",
      "thrust of the ABP is provision of farm inputs in kind and cash  \n",
      "(for farm labour) to small holder farmers to  boost production \n",
      "of these commodities, stabilize inputs supply to agro \n",
      "processors and address the country’s negative balance of \n",
      "payments on food .  At harvest, the SHF supplies  his/he r \n",
      "produce to the Agro -processor  (Anchor ) who pays the cash \n",
      "equivalent to the farmer’s account.  \n",
      "The Programme evolved from the consultations with \n",
      "stakeholders comprising Fed eral Ministry of Agriculture & Rural \n",
      "Development, State Governors, millers of agricultural \n",
      "produce, and s mallholder farmers to boost agricultural \n",
      "production and non -oil exports in the face of unpredictable \n",
      "crude  oil prices  and its resultant effect on the r evenue profile \n",
      "of Nigeria .\n"
     ]
    }
   ],
   "source": [
    "print(pages[1].page_content)"
   ]
  },
  {
   "cell_type": "code",
   "execution_count": 20,
   "id": "ebe85f46-ba95-4b9e-bf18-67f0e13d5f56",
   "metadata": {},
   "outputs": [
    {
     "name": "stdout",
     "output_type": "stream",
     "text": [
      "2 \n",
      " 1.2. Objective  \n",
      "The broad objective of the ABP is to create economic linkage  \n",
      "between smallholder farmers and reputable large -scale \n",
      "processors with a view to increasing agricultural output and \n",
      "significantly improving capacity utilizati on of processors . \n",
      "Other objectives include:  \n",
      " Increase banks’ financing to the agricultural sector  \n",
      " Reduce agricultural commodity importation and \n",
      "conserve external reserves   \n",
      " Increase capacity utilization of agricultural firms  \n",
      " Create new generation of farmers /entrepreneurs and \n",
      "employment  \n",
      " Deepen the cashless policy and financial inclusion  \n",
      " Reduce the level of poverty among smallholder farmers  \n",
      " Assist rural smallholder farmers to grow from subsistence \n",
      "to commercial production levels.  \n",
      " \n",
      "1.3. Targeted Beneficiaries  \n",
      "The loan  shall be targeted at smallholder farmers engaged in \n",
      "the production of  identified commodities across the country.  \n",
      "The Farmers should be in groups/c ooperative(s)  of between 5 \n",
      "and 20 for ease of administration . \n",
      " \n",
      "1.4. Identified Agricultural Commodities  \n",
      "The ta rgeted commodities of compara tive advantage to the \n",
      "State shall include  but not limited to :\n"
     ]
    }
   ],
   "source": [
    "print(pages[2].page_content)"
   ]
  },
  {
   "cell_type": "code",
   "execution_count": 21,
   "id": "2d859284-df56-4710-9e99-5108ca4b3530",
   "metadata": {},
   "outputs": [
    {
     "name": "stdout",
     "output_type": "stream",
     "text": [
      "3 \n",
      "  Cereal s (Rice, Maize, wheat etc.)  \n",
      " Cotton  \n",
      " Roots and Tubers (C assava , Potatoes, Yam, Ginger etc.)  \n",
      " Sugarcane  \n",
      " Tree crops ( Oil palm , Cocoa, Rubber etc.)  \n",
      " Legumes ( Soybea n, Sesame seed , Cowpea etc.)  \n",
      " Tomato  \n",
      " Livestock ( Fish, Poultry, Ruminants etc.)  \n",
      "Any other commodity that will be introduced by the CBN \n",
      "from time to time.  \n",
      " \n",
      "1.5. Eligible Participating Financial Institutions (PFIs)  \n",
      "The loan  shall be disbursed through any of these PFIs:  \n",
      " Deposit Money Banks (DMBs)  \n",
      " Development  Finance Institutions (DFIs)  \n",
      " Microfinance Banks (MFBs)  \n",
      " \n",
      "1.6. The Anchor  \n",
      "This shall be private large -scale  integrated processors who  \n",
      "have entered into  an agreement  with the SHF s to off -take the \n",
      "harvested produce at t he agreed prices  or as may be \n",
      "reviewed by the PMT . State Government s may act as Anchor \n",
      "upon meeti ng the prescribed conditions.  \n",
      " \n",
      "1.7. Inputs Suppliers  \n",
      "The input suppliers shall submit expression of interest letter  to \n",
      "the office of the PMT for consideration and issuance of local \n",
      "purchase orders.\n"
     ]
    }
   ],
   "source": [
    "print(pages[3].page_content)"
   ]
  }
 ],
 "metadata": {
  "kernelspec": {
   "display_name": "Python 3 (ipykernel)",
   "language": "python",
   "name": "python3"
  },
  "language_info": {
   "codemirror_mode": {
    "name": "ipython",
    "version": 3
   },
   "file_extension": ".py",
   "mimetype": "text/x-python",
   "name": "python",
   "nbconvert_exporter": "python",
   "pygments_lexer": "ipython3",
   "version": "3.13.1"
  }
 },
 "nbformat": 4,
 "nbformat_minor": 5
}
